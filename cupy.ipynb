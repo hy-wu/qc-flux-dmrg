{
 "cells": [
  {
   "cell_type": "code",
   "execution_count": 6,
   "metadata": {},
   "outputs": [
    {
     "name": "stderr",
     "output_type": "stream",
     "text": [
      " 12%|█▏        | 5/41 [00:09<01:02,  1.73s/it]"
     ]
    }
   ],
   "source": [
    "# multi-targeted DMRG\n",
    "\n",
    "# from flux_cu import Flux\n",
    "import flux_cu\n",
    "import cupy as np\n",
    "from tqdm import tqdm\n",
    "n_j = 3\n",
    "n_excited = 12\n",
    "phi_ext_range = np.linspace(0, np.pi / 2, 41)  # the sweep range of phi_ext\n",
    "energies = np.zeros((len(phi_ext_range), n_excited))\n",
    "f = flux_cu.Flux(N_J=n_j, N_excited=n_excited, Ds=12, N_Lanczos=6, basis='flux')\n",
    "for n, var in enumerate(tqdm(phi_ext_range)):\n",
    "    f.set_phiExt(var)\n",
    "    energies[n] = np.array(f.optimizeT(usingLanczos=True, Eng_criterion=0.01, N_criterion=12, Quiet=True))\n",
    "N = energies.shape[1]  # the number of lines in the spectrum (n_excited)\n",
    "# Plotting the energy spectrum\n",
    "energies = energies[::-1, :]\n",
    "phi_e_range = phi_ext_range / np.pi"
   ]
  }
 ],
 "metadata": {
  "kernelspec": {
   "display_name": "Python 3",
   "language": "python",
   "name": "python3"
  },
  "language_info": {
   "codemirror_mode": {
    "name": "ipython",
    "version": 3
   },
   "file_extension": ".py",
   "mimetype": "text/x-python",
   "name": "python",
   "nbconvert_exporter": "python",
   "pygments_lexer": "ipython3",
   "version": "3.11.5"
  }
 },
 "nbformat": 4,
 "nbformat_minor": 2
}
